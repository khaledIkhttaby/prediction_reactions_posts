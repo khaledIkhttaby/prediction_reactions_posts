{
 "cells": [
  {
   "cell_type": "code",
   "execution_count": 4,
   "metadata": {},
   "outputs": [],
   "source": [
    "import numpy as np \n",
    "import pandas as pd\n",
    "from keras.models import load_model\n",
    "get_ipython().run_line_magic('config', 'Completer.use_jedi = False')\n",
    "from services_featuers.get_category_vector_svm__ import get_category_vector\n",
    "from services_featuers.get_category_vector_nn import get_category_vector_nn\n",
    "from services_featuers.get_emotion_vector import get_emotion_vector_svm\n",
    "from services_featuers.get_emotion_vector_NN import get_emotion_vecor_nn\n",
    "import numpy as np\n",
    "\n",
    "\n",
    "# In[70]:\n",
    "\n",
    "\n",
    "def concatentate_tow_numpyarray(a,b):\n",
    "    k=list()\n",
    "    for i in range(len(b)):\n",
    "        k.append(a[i].tolist()+b[i].tolist())\n",
    "    return np.array(k)\n",
    "def get_vector_category_full(post):\n",
    "    return concatentate_tow_numpyarray(get_category_vector(post),get_category_vector_nn(post))\n",
    "\n",
    "\n",
    "# In[71]:\n",
    "\n",
    "\n",
    "def get_vector_emotion_full(post):\n",
    "    return concatentate_tow_numpyarray(get_emotion_vector_svm(post),get_emotion_vecor_nn(post))\n",
    "\n",
    "\n",
    "# In[76]:\n",
    "\n",
    "\n",
    "def convert_to_one_vector(nparray):\n",
    "    l=list()\n",
    "    for s in nparray:\n",
    "        l=l+s.tolist()\n",
    "    return np.array(l)\n",
    "def get_featuers_for_post(post):\n",
    "    return concatentate_tow_numpyarray(get_vector_category_full(post),get_vector_emotion_full(post))\n",
    "\n"
   ]
  },
  {
   "cell_type": "code",
   "execution_count": 5,
   "metadata": {},
   "outputs": [],
   "source": [
    "import pickle\n",
    "with open(\"../Final_models_svm/reg_care.pickle\",\"rb\") as file:\n",
    "    reg_care=pickle.load(file)\n",
    "with open(\"../Final_models_svm/reg_love.pickle\",\"rb\") as file:\n",
    "    reg_love=pickle.load(file)\n",
    "with open(\"../Final_models_svm/reg_wow.pickle\",\"rb\") as file:\n",
    "    reg_wow=pickle.load(file)\n",
    "with open(\"../Final_models_svm/reg_angry.pickle\",\"rb\") as file:\n",
    "    reg_angry=pickle.load(file)\n",
    "with open(\"../Final_models_svm/reg_sad.pickle\",\"rb\") as file:\n",
    "    reg_sad=pickle.load(file)\n",
    "model_nn=load_model(\"../Final_models_svm/model_nn.h5\")"
   ]
  },
  {
   "cell_type": "code",
   "execution_count": 6,
   "metadata": {},
   "outputs": [
    {
     "data": {
      "text/plain": [
       "(21693, 10)"
      ]
     },
     "execution_count": 6,
     "metadata": {},
     "output_type": "execute_result"
    }
   ],
   "source": [
    "data=pd.read_csv(\"../data/Data_cleaning_with_content.csv\")\n",
    "reactions=['love','wow','angry','sad','care']\n",
    "data.shape"
   ]
  },
  {
   "cell_type": "code",
   "execution_count": 7,
   "metadata": {},
   "outputs": [],
   "source": [
    "data=data.dropna()\n",
    "contents=data['contentclean'].values\n",
    "love=data['love'].values\n",
    "wow=data['wow'].values\n",
    "sad=data['sigh'].values\n",
    "angry=data['grrr'].values\n",
    "care=data['care'].values\n",
    "category=data['category'].values\n",
    "sum_reaction=data['sumreactions'].values\n",
    "love=love/sum_reaction\n",
    "wow=wow/sum_reaction\n",
    "angry=angry/sum_reaction\n",
    "sad=sad/sum_reaction\n",
    "care=care/sum_reaction"
   ]
  },
  {
   "cell_type": "code",
   "execution_count": 8,
   "metadata": {},
   "outputs": [],
   "source": [
    "Emotions=np.array([love]).reshape(-1,1)\n",
    "Emotions=np.insert(Emotions,1,wow,axis=1)\n",
    "Emotions=np.insert(Emotions,2,angry,axis=1)\n",
    "Emotions=np.insert(Emotions,3,sad,axis=1)\n",
    "Emotions=np.insert(Emotions,4,care,axis=1)\n",
    "Y_train=Emotions"
   ]
  },
  {
   "cell_type": "code",
   "execution_count": 9,
   "metadata": {},
   "outputs": [
    {
     "name": "stdout",
     "output_type": "stream",
     "text": [
      "WARNING:tensorflow:AutoGraph could not transform <function Model.make_predict_function.<locals>.predict_function at 0x0000015EBAF4CDC8> and will run it as-is.\n",
      "Please report this to the TensorFlow team. When filing the bug, set the verbosity to 10 (on Linux, `export AUTOGRAPH_VERBOSITY=10`) and attach the full output.\n",
      "Cause: 'arguments' object has no attribute 'posonlyargs'\n",
      "To silence this warning, decorate the function with @tf.autograph.experimental.do_not_convert\n",
      "WARNING: AutoGraph could not transform <function Model.make_predict_function.<locals>.predict_function at 0x0000015EBAF4CDC8> and will run it as-is.\n",
      "Please report this to the TensorFlow team. When filing the bug, set the verbosity to 10 (on Linux, `export AUTOGRAPH_VERBOSITY=10`) and attach the full output.\n",
      "Cause: 'arguments' object has no attribute 'posonlyargs'\n",
      "To silence this warning, decorate the function with @tf.autograph.experimental.do_not_convert\n",
      "WARNING:tensorflow:AutoGraph could not transform <function Model.make_predict_function.<locals>.predict_function at 0x0000015EBB432318> and will run it as-is.\n",
      "Please report this to the TensorFlow team. When filing the bug, set the verbosity to 10 (on Linux, `export AUTOGRAPH_VERBOSITY=10`) and attach the full output.\n",
      "Cause: 'arguments' object has no attribute 'posonlyargs'\n",
      "To silence this warning, decorate the function with @tf.autograph.experimental.do_not_convert\n",
      "WARNING: AutoGraph could not transform <function Model.make_predict_function.<locals>.predict_function at 0x0000015EBB432318> and will run it as-is.\n",
      "Please report this to the TensorFlow team. When filing the bug, set the verbosity to 10 (on Linux, `export AUTOGRAPH_VERBOSITY=10`) and attach the full output.\n",
      "Cause: 'arguments' object has no attribute 'posonlyargs'\n",
      "To silence this warning, decorate the function with @tf.autograph.experimental.do_not_convert\n",
      "WARNING:tensorflow:AutoGraph could not transform <function Model.make_predict_function.<locals>.predict_function at 0x0000015EA5FDFC18> and will run it as-is.\n",
      "Please report this to the TensorFlow team. When filing the bug, set the verbosity to 10 (on Linux, `export AUTOGRAPH_VERBOSITY=10`) and attach the full output.\n",
      "Cause: 'arguments' object has no attribute 'posonlyargs'\n",
      "To silence this warning, decorate the function with @tf.autograph.experimental.do_not_convert\n",
      "WARNING: AutoGraph could not transform <function Model.make_predict_function.<locals>.predict_function at 0x0000015EA5FDFC18> and will run it as-is.\n",
      "Please report this to the TensorFlow team. When filing the bug, set the verbosity to 10 (on Linux, `export AUTOGRAPH_VERBOSITY=10`) and attach the full output.\n",
      "Cause: 'arguments' object has no attribute 'posonlyargs'\n",
      "To silence this warning, decorate the function with @tf.autograph.experimental.do_not_convert\n",
      "WARNING:tensorflow:AutoGraph could not transform <function Model.make_predict_function.<locals>.predict_function at 0x0000015EBB39E558> and will run it as-is.\n",
      "Please report this to the TensorFlow team. When filing the bug, set the verbosity to 10 (on Linux, `export AUTOGRAPH_VERBOSITY=10`) and attach the full output.\n",
      "Cause: 'arguments' object has no attribute 'posonlyargs'\n",
      "To silence this warning, decorate the function with @tf.autograph.experimental.do_not_convert\n",
      "WARNING: AutoGraph could not transform <function Model.make_predict_function.<locals>.predict_function at 0x0000015EBB39E558> and will run it as-is.\n",
      "Please report this to the TensorFlow team. When filing the bug, set the verbosity to 10 (on Linux, `export AUTOGRAPH_VERBOSITY=10`) and attach the full output.\n",
      "Cause: 'arguments' object has no attribute 'posonlyargs'\n",
      "To silence this warning, decorate the function with @tf.autograph.experimental.do_not_convert\n"
     ]
    }
   ],
   "source": [
    "X_test=get_featuers_for_post(contents[0:5]) "
   ]
  },
  {
   "cell_type": "code",
   "execution_count": 10,
   "metadata": {},
   "outputs": [],
   "source": [
    "def predictions_regression(posts):\n",
    "    X_test=get_featuers_for_post(posts)\n",
    "    love_predictions=reg_love.predict(X_test)\n",
    "    wow_predictions=reg_wow.predict(X_test)\n",
    "    angry_predictions=reg_angry.predict(X_test)\n",
    "    sad_predictions=reg_sad.predict(X_test)\n",
    "    care_predictions=reg_care.predict(X_test)\n",
    "    res=[]\n",
    "    res.append(love_predictions)\n",
    "    res.append(wow_predictions)\n",
    "    res.append(angry_predictions)\n",
    "    res.append(sad_predictions)\n",
    "    res.append(care_predictions)\n",
    "    return np.array(res).transpose()\n",
    "    \n",
    "def predictions_model_nn(posts):\n",
    "    X_test=get_featuers_for_post(posts)\n",
    "    return model_nn.predict(X_test)\n",
    "    "
   ]
  },
  {
   "cell_type": "code",
   "execution_count": 11,
   "metadata": {},
   "outputs": [
    {
     "name": "stdout",
     "output_type": "stream",
     "text": [
      "-------- ['love', 'wow', 'angry', 'sad', 'care']\n",
      "WARNING:tensorflow:AutoGraph could not transform <function Model.make_predict_function.<locals>.predict_function at 0x0000015EA6127C18> and will run it as-is.\n",
      "Please report this to the TensorFlow team. When filing the bug, set the verbosity to 10 (on Linux, `export AUTOGRAPH_VERBOSITY=10`) and attach the full output.\n",
      "Cause: 'arguments' object has no attribute 'posonlyargs'\n",
      "To silence this warning, decorate the function with @tf.autograph.experimental.do_not_convert\n",
      "WARNING: AutoGraph could not transform <function Model.make_predict_function.<locals>.predict_function at 0x0000015EA6127C18> and will run it as-is.\n",
      "Please report this to the TensorFlow team. When filing the bug, set the verbosity to 10 (on Linux, `export AUTOGRAPH_VERBOSITY=10`) and attach the full output.\n",
      "Cause: 'arguments' object has no attribute 'posonlyargs'\n",
      "To silence this warning, decorate the function with @tf.autograph.experimental.do_not_convert\n",
      "WARNING:tensorflow:5 out of the last 9 calls to <function Model.make_predict_function.<locals>.predict_function at 0x0000015EA6127C18> triggered tf.function retracing. Tracing is expensive and the excessive number of tracings could be due to (1) creating @tf.function repeatedly in a loop, (2) passing tensors with different shapes, (3) passing Python objects instead of tensors. For (1), please define your @tf.function outside of the loop. For (2), @tf.function has experimental_relax_shapes=True option that relaxes argument shapes that can avoid unnecessary retracing. For (3), please refer to https://www.tensorflow.org/guide/function#controlling_retracing and https://www.tensorflow.org/api_docs/python/tf/function for  more details.\n",
      "       __________Predictions_neural network___________\n",
      "\n",
      " [[6.48813426e-01 1.25851221e-02 4.37528677e-02 2.67900199e-01\n",
      "  2.69485097e-02]\n",
      " [9.93635535e-01 1.32929825e-03 1.93153057e-04 4.03610012e-03\n",
      "  8.05995718e-04]\n",
      " [9.13162649e-01 1.00178635e-02 7.70968618e-04 1.46978057e-03\n",
      "  7.45787919e-02]]\n",
      "       \n",
      "__________Real___________\n",
      "\n",
      " [[0.625 0.    0.125 0.25  0.   ]\n",
      " [1.    0.    0.    0.    0.   ]\n",
      " [0.9   0.    0.    0.    0.1  ]]\n"
     ]
    }
   ],
   "source": [
    "print(\"--------\",reactions)\n",
    "print(\"       __________Predictions_neural network___________\\n\\n\",predictions_model_nn(contents[0:3]).astype(\"float\"))\n",
    "print(\"       \\n__________Real___________\\n\\n\",Y_train[0:3])"
   ]
  },
  {
   "cell_type": "code",
   "execution_count": 17,
   "metadata": {},
   "outputs": [
    {
     "name": "stdout",
     "output_type": "stream",
     "text": [
      "-------- ['love', 'wow', 'angry', 'sad', 'care']\n",
      "       __________Predictions___________\n",
      " [[ 6.28572464e-01  3.90052795e-04  1.08694315e-01  2.40117073e-01\n",
      "   2.22852230e-02]\n",
      " [ 9.92788315e-01 -3.13472748e-03 -8.90016556e-03  6.47697449e-02\n",
      "  -4.55749035e-02]\n",
      " [ 8.83520126e-01  4.32767868e-02 -1.55239105e-02 -9.15336609e-03\n",
      "   9.79249477e-02]]\n",
      "       __________Real___________\n",
      " [[0.625 0.    0.125 0.25  0.   ]\n",
      " [1.    0.    0.    0.    0.   ]\n",
      " [0.9   0.    0.    0.    0.1  ]]\n"
     ]
    }
   ],
   "source": [
    "print(\"--------\",reactions)\n",
    "print(\"       __________Predictions___________\\n\",predictions_regression(contents[0:3]))\n",
    "print(\"       __________Real___________\\n\",Y_train[0:3])"
   ]
  },
  {
   "cell_type": "code",
   "execution_count": null,
   "metadata": {},
   "outputs": [],
   "source": []
  },
  {
   "cell_type": "code",
   "execution_count": null,
   "metadata": {},
   "outputs": [],
   "source": []
  },
  {
   "cell_type": "code",
   "execution_count": null,
   "metadata": {},
   "outputs": [],
   "source": []
  }
 ],
 "metadata": {
  "kernelspec": {
   "display_name": "Python 3",
   "language": "python",
   "name": "python3"
  },
  "language_info": {
   "codemirror_mode": {
    "name": "ipython",
    "version": 3
   },
   "file_extension": ".py",
   "mimetype": "text/x-python",
   "name": "python",
   "nbconvert_exporter": "python",
   "pygments_lexer": "ipython3",
   "version": "3.7.7"
  }
 },
 "nbformat": 4,
 "nbformat_minor": 4
}
