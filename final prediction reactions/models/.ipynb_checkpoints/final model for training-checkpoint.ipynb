{
 "cells": [
  {
   "cell_type": "code",
   "execution_count": 1,
   "metadata": {},
   "outputs": [
    {
     "name": "stdout",
     "output_type": "stream",
     "text": [
      "SVC(probability=True)\n"
     ]
    },
    {
     "ename": "FileNotFoundError",
     "evalue": "[Errno 2] No such file or directory: 'tokenizer_NN.pickle'",
     "output_type": "error",
     "traceback": [
      "\u001b[1;31m---------------------------------------------------------------------------\u001b[0m",
      "\u001b[1;31mFileNotFoundError\u001b[0m                         Traceback (most recent call last)",
      "\u001b[1;32m<ipython-input-1-2219af1dda39>\u001b[0m in \u001b[0;36m<module>\u001b[1;34m\u001b[0m\n\u001b[0;32m      1\u001b[0m \u001b[1;32mimport\u001b[0m \u001b[0mnumpy\u001b[0m \u001b[1;32mas\u001b[0m \u001b[0mnp\u001b[0m\u001b[1;33m\u001b[0m\u001b[1;33m\u001b[0m\u001b[0m\n\u001b[0;32m      2\u001b[0m \u001b[1;32mimport\u001b[0m \u001b[0mpandas\u001b[0m \u001b[1;32mas\u001b[0m \u001b[0mpd\u001b[0m\u001b[1;33m\u001b[0m\u001b[1;33m\u001b[0m\u001b[0m\n\u001b[1;32m----> 3\u001b[1;33m \u001b[1;32mfrom\u001b[0m \u001b[0mget_featuers_posts\u001b[0m \u001b[1;32mimport\u001b[0m \u001b[0mget_featuers_for_post\u001b[0m \u001b[1;33m,\u001b[0m\u001b[0mget_vector_category_full\u001b[0m\u001b[1;33m\u001b[0m\u001b[1;33m\u001b[0m\u001b[0m\n\u001b[0m",
      "\u001b[1;32m~\\Desktop\\Prediction_reaction\\models\\get_featuers_posts.py\u001b[0m in \u001b[0;36m<module>\u001b[1;34m\u001b[0m\n\u001b[0;32m      7\u001b[0m \u001b[0mget_ipython\u001b[0m\u001b[1;33m(\u001b[0m\u001b[1;33m)\u001b[0m\u001b[1;33m.\u001b[0m\u001b[0mrun_line_magic\u001b[0m\u001b[1;33m(\u001b[0m\u001b[1;34m'config'\u001b[0m\u001b[1;33m,\u001b[0m \u001b[1;34m'Completer.use_jedi = False'\u001b[0m\u001b[1;33m)\u001b[0m\u001b[1;33m\u001b[0m\u001b[1;33m\u001b[0m\u001b[0m\n\u001b[0;32m      8\u001b[0m \u001b[1;32mfrom\u001b[0m \u001b[0mget_category_vector_svm__\u001b[0m \u001b[1;32mimport\u001b[0m \u001b[0mget_category_vector\u001b[0m\u001b[1;33m\u001b[0m\u001b[1;33m\u001b[0m\u001b[0m\n\u001b[1;32m----> 9\u001b[1;33m \u001b[1;32mfrom\u001b[0m \u001b[0mget_category_vector_nn\u001b[0m \u001b[1;32mimport\u001b[0m \u001b[0mget_category_vector_nn\u001b[0m\u001b[1;33m\u001b[0m\u001b[1;33m\u001b[0m\u001b[0m\n\u001b[0m\u001b[0;32m     10\u001b[0m \u001b[1;32mfrom\u001b[0m \u001b[0mget_emotion_vector\u001b[0m \u001b[1;32mimport\u001b[0m \u001b[0mget_emotion_vector_svm\u001b[0m\u001b[1;33m\u001b[0m\u001b[1;33m\u001b[0m\u001b[0m\n\u001b[0;32m     11\u001b[0m \u001b[1;32mfrom\u001b[0m \u001b[0mget_emotion_vector_NN\u001b[0m \u001b[1;32mimport\u001b[0m \u001b[0mget_emotion_vecor_nn\u001b[0m\u001b[1;33m\u001b[0m\u001b[1;33m\u001b[0m\u001b[0m\n",
      "\u001b[1;32m~\\Desktop\\Prediction_reaction\\models\\get_category_vector_nn.py\u001b[0m in \u001b[0;36m<module>\u001b[1;34m\u001b[0m\n\u001b[0;32m     16\u001b[0m \u001b[0mmodel_prediction_cnn\u001b[0m\u001b[1;33m=\u001b[0m\u001b[0mload_model\u001b[0m\u001b[1;33m(\u001b[0m\u001b[1;34m'CNN_category.h5'\u001b[0m\u001b[1;33m)\u001b[0m\u001b[1;33m\u001b[0m\u001b[1;33m\u001b[0m\u001b[0m\n\u001b[0;32m     17\u001b[0m \u001b[0mmodel_prediction_lstm\u001b[0m\u001b[1;33m=\u001b[0m\u001b[0mload_model\u001b[0m\u001b[1;33m(\u001b[0m\u001b[1;34m'LSTM_category.h5'\u001b[0m\u001b[1;33m)\u001b[0m\u001b[1;33m\u001b[0m\u001b[1;33m\u001b[0m\u001b[0m\n\u001b[1;32m---> 18\u001b[1;33m \u001b[1;32mwith\u001b[0m \u001b[0mopen\u001b[0m\u001b[1;33m(\u001b[0m\u001b[1;34m'tokenizer_NN.pickle'\u001b[0m\u001b[1;33m,\u001b[0m \u001b[1;34m'rb'\u001b[0m\u001b[1;33m)\u001b[0m \u001b[1;32mas\u001b[0m \u001b[0mhandle\u001b[0m\u001b[1;33m:\u001b[0m\u001b[1;33m\u001b[0m\u001b[1;33m\u001b[0m\u001b[0m\n\u001b[0m\u001b[0;32m     19\u001b[0m         \u001b[0mtokenizer\u001b[0m\u001b[1;33m=\u001b[0m \u001b[0mpickle\u001b[0m\u001b[1;33m.\u001b[0m\u001b[0mload\u001b[0m\u001b[1;33m(\u001b[0m\u001b[0mhandle\u001b[0m\u001b[1;33m)\u001b[0m\u001b[1;33m\u001b[0m\u001b[1;33m\u001b[0m\u001b[0m\n\u001b[0;32m     20\u001b[0m \u001b[1;33m\u001b[0m\u001b[0m\n",
      "\u001b[1;31mFileNotFoundError\u001b[0m: [Errno 2] No such file or directory: 'tokenizer_NN.pickle'"
     ]
    }
   ],
   "source": [
    "import numpy as np \n",
    "import pandas as pd\n",
    "from get_featuers_posts import get_featuers_for_post ,get_vector_category_full"
   ]
  },
  {
   "cell_type": "code",
   "execution_count": 2,
   "metadata": {},
   "outputs": [
    {
     "data": {
      "text/html": [
       "<div>\n",
       "<style scoped>\n",
       "    .dataframe tbody tr th:only-of-type {\n",
       "        vertical-align: middle;\n",
       "    }\n",
       "\n",
       "    .dataframe tbody tr th {\n",
       "        vertical-align: top;\n",
       "    }\n",
       "\n",
       "    .dataframe thead th {\n",
       "        text-align: right;\n",
       "    }\n",
       "</style>\n",
       "<table border=\"1\" class=\"dataframe\">\n",
       "  <thead>\n",
       "    <tr style=\"text-align: right;\">\n",
       "      <th></th>\n",
       "      <th>love</th>\n",
       "      <th>base_name</th>\n",
       "      <th>sigh</th>\n",
       "      <th>grrr</th>\n",
       "      <th>category</th>\n",
       "      <th>wow</th>\n",
       "      <th>care</th>\n",
       "      <th>content</th>\n",
       "      <th>sumreactions</th>\n",
       "      <th>contentclean</th>\n",
       "    </tr>\n",
       "  </thead>\n",
       "  <tbody>\n",
       "    <tr>\n",
       "      <th>0</th>\n",
       "      <td>5</td>\n",
       "      <td>سوريا اليوم</td>\n",
       "      <td>2</td>\n",
       "      <td>1</td>\n",
       "      <td>Social</td>\n",
       "      <td>0</td>\n",
       "      <td>0</td>\n",
       "      <td>جديد قضية ابن بايدن.. الأف بي آي حقق مع شريكه ...</td>\n",
       "      <td>8</td>\n",
       "      <td>جديد قضيه ابن بايدن الاف بي حقق شريكه ساعات</td>\n",
       "    </tr>\n",
       "    <tr>\n",
       "      <th>1</th>\n",
       "      <td>1</td>\n",
       "      <td>شام تايمز shamtimes.net</td>\n",
       "      <td>0</td>\n",
       "      <td>0</td>\n",
       "      <td>Military</td>\n",
       "      <td>0</td>\n",
       "      <td>0</td>\n",
       "      <td>وَلَا تَحْسَبَنَّ اللَّهَ غَافِلًا عَمَّا يَعْ...</td>\n",
       "      <td>1</td>\n",
       "      <td>ولا تحسبن الله غافلا عما يعمل الظالمون انما يؤ...</td>\n",
       "    </tr>\n",
       "    <tr>\n",
       "      <th>2</th>\n",
       "      <td>27</td>\n",
       "      <td>شبكة أخبار اللاذقية L.N.N</td>\n",
       "      <td>0</td>\n",
       "      <td>0</td>\n",
       "      <td>Religion</td>\n",
       "      <td>0</td>\n",
       "      <td>3</td>\n",
       "      <td>مسافرة أسترالية للعربية: تم اقتياد النساء والأ...</td>\n",
       "      <td>30</td>\n",
       "      <td>مسافره استراليه للعربيه تم اقتياد النساء والاط...</td>\n",
       "    </tr>\n",
       "    <tr>\n",
       "      <th>3</th>\n",
       "      <td>0</td>\n",
       "      <td>الياطر نيوز Alyater News</td>\n",
       "      <td>0</td>\n",
       "      <td>0</td>\n",
       "      <td>Politics</td>\n",
       "      <td>1</td>\n",
       "      <td>0</td>\n",
       "      <td>Trump in 2016: “#Assad is killing #ISIS. #Russ...</td>\n",
       "      <td>1</td>\n",
       "      <td>NaN</td>\n",
       "    </tr>\n",
       "    <tr>\n",
       "      <th>4</th>\n",
       "      <td>25</td>\n",
       "      <td>العربي الجديد</td>\n",
       "      <td>0</td>\n",
       "      <td>0</td>\n",
       "      <td>Sport</td>\n",
       "      <td>1</td>\n",
       "      <td>1</td>\n",
       "      <td>قوانين هذا العالم العامة مثل قواعد الحياة ذاته...</td>\n",
       "      <td>27</td>\n",
       "      <td>قوانين هذا العالم العامه مثل قواعد الحياه ذاته...</td>\n",
       "    </tr>\n",
       "    <tr>\n",
       "      <th>...</th>\n",
       "      <td>...</td>\n",
       "      <td>...</td>\n",
       "      <td>...</td>\n",
       "      <td>...</td>\n",
       "      <td>...</td>\n",
       "      <td>...</td>\n",
       "      <td>...</td>\n",
       "      <td>...</td>\n",
       "      <td>...</td>\n",
       "      <td>...</td>\n",
       "    </tr>\n",
       "    <tr>\n",
       "      <th>21688</th>\n",
       "      <td>4</td>\n",
       "      <td>شبكة أخبار حي الزهراء بحلب</td>\n",
       "      <td>0</td>\n",
       "      <td>1</td>\n",
       "      <td>Entertainment</td>\n",
       "      <td>0</td>\n",
       "      <td>2</td>\n",
       "      <td>من نص ساعة طفيت الكهربا وهلق رجعت اجت مع العلم...</td>\n",
       "      <td>7</td>\n",
       "      <td>نص ساعه طفيت الكهربا رجعت اجت العلم وقت اجت ضل...</td>\n",
       "    </tr>\n",
       "    <tr>\n",
       "      <th>21689</th>\n",
       "      <td>2</td>\n",
       "      <td>جبلة</td>\n",
       "      <td>0</td>\n",
       "      <td>0</td>\n",
       "      <td>Entertainment</td>\n",
       "      <td>0</td>\n",
       "      <td>1</td>\n",
       "      <td>📶#الباقة_التوفيرية_الجديدة📶  3 غيغابايت سيرف +...</td>\n",
       "      <td>3</td>\n",
       "      <td>📶 الباقه التوفيريه الجديده📶 غيغابايت سيرف غيغا...</td>\n",
       "    </tr>\n",
       "    <tr>\n",
       "      <th>21690</th>\n",
       "      <td>48</td>\n",
       "      <td>تلفزيون اللاذقية _ Lattakia TV</td>\n",
       "      <td>72</td>\n",
       "      <td>0</td>\n",
       "      <td>Military</td>\n",
       "      <td>1</td>\n",
       "      <td>5</td>\n",
       "      <td>وتمضي الأيام والباسل في الذاكرة والوجدان ❤ فار...</td>\n",
       "      <td>126</td>\n",
       "      <td>وتمضي الايام والباسل الذاكره والوجدان فارس الا...</td>\n",
       "    </tr>\n",
       "    <tr>\n",
       "      <th>21691</th>\n",
       "      <td>2</td>\n",
       "      <td>وزارة الاتصالات والتقانة - سورية</td>\n",
       "      <td>0</td>\n",
       "      <td>0</td>\n",
       "      <td>Politics</td>\n",
       "      <td>0</td>\n",
       "      <td>0</td>\n",
       "      <td>رئاسة مجلس الوزراء في سورية  وزارة الاتصالات و...</td>\n",
       "      <td>2</td>\n",
       "      <td>رئاسه مجلس الوزراء سوريه وزاره الاتصالات والتق...</td>\n",
       "    </tr>\n",
       "    <tr>\n",
       "      <th>21692</th>\n",
       "      <td>1</td>\n",
       "      <td>الحرس الجمهوري السوري الالكتروني اللواء   105</td>\n",
       "      <td>0</td>\n",
       "      <td>0</td>\n",
       "      <td>Military</td>\n",
       "      <td>0</td>\n",
       "      <td>0</td>\n",
       "      <td>نائب رئيس المركز الروسي للمصالحة في سوريا: ناق...</td>\n",
       "      <td>1</td>\n",
       "      <td>نائب رئيس المركز الروسي للمصالحه سوريا ناقله ا...</td>\n",
       "    </tr>\n",
       "  </tbody>\n",
       "</table>\n",
       "<p>21693 rows × 10 columns</p>\n",
       "</div>"
      ],
      "text/plain": [
       "       love                                      base_name  sigh  grrr  \\\n",
       "0         5                                    سوريا اليوم     2     1   \n",
       "1         1                        شام تايمز shamtimes.net     0     0   \n",
       "2        27                      شبكة أخبار اللاذقية L.N.N     0     0   \n",
       "3         0                       الياطر نيوز Alyater News     0     0   \n",
       "4        25                                  العربي الجديد     0     0   \n",
       "...     ...                                            ...   ...   ...   \n",
       "21688     4                     شبكة أخبار حي الزهراء بحلب     0     1   \n",
       "21689     2                                           جبلة     0     0   \n",
       "21690    48                 تلفزيون اللاذقية _ Lattakia TV    72     0   \n",
       "21691     2               وزارة الاتصالات والتقانة - سورية     0     0   \n",
       "21692     1  الحرس الجمهوري السوري الالكتروني اللواء   105     0     0   \n",
       "\n",
       "            category  wow  care  \\\n",
       "0             Social    0     0   \n",
       "1           Military    0     0   \n",
       "2           Religion    0     3   \n",
       "3           Politics    1     0   \n",
       "4              Sport    1     1   \n",
       "...              ...  ...   ...   \n",
       "21688  Entertainment    0     2   \n",
       "21689  Entertainment    0     1   \n",
       "21690       Military    1     5   \n",
       "21691       Politics    0     0   \n",
       "21692       Military    0     0   \n",
       "\n",
       "                                                 content  sumreactions  \\\n",
       "0      جديد قضية ابن بايدن.. الأف بي آي حقق مع شريكه ...             8   \n",
       "1      وَلَا تَحْسَبَنَّ اللَّهَ غَافِلًا عَمَّا يَعْ...             1   \n",
       "2      مسافرة أسترالية للعربية: تم اقتياد النساء والأ...            30   \n",
       "3      Trump in 2016: “#Assad is killing #ISIS. #Russ...             1   \n",
       "4      قوانين هذا العالم العامة مثل قواعد الحياة ذاته...            27   \n",
       "...                                                  ...           ...   \n",
       "21688  من نص ساعة طفيت الكهربا وهلق رجعت اجت مع العلم...             7   \n",
       "21689  📶#الباقة_التوفيرية_الجديدة📶  3 غيغابايت سيرف +...             3   \n",
       "21690  وتمضي الأيام والباسل في الذاكرة والوجدان ❤ فار...           126   \n",
       "21691  رئاسة مجلس الوزراء في سورية  وزارة الاتصالات و...             2   \n",
       "21692  نائب رئيس المركز الروسي للمصالحة في سوريا: ناق...             1   \n",
       "\n",
       "                                            contentclean  \n",
       "0            جديد قضيه ابن بايدن الاف بي حقق شريكه ساعات  \n",
       "1      ولا تحسبن الله غافلا عما يعمل الظالمون انما يؤ...  \n",
       "2      مسافره استراليه للعربيه تم اقتياد النساء والاط...  \n",
       "3                                                    NaN  \n",
       "4      قوانين هذا العالم العامه مثل قواعد الحياه ذاته...  \n",
       "...                                                  ...  \n",
       "21688  نص ساعه طفيت الكهربا رجعت اجت العلم وقت اجت ضل...  \n",
       "21689  📶 الباقه التوفيريه الجديده📶 غيغابايت سيرف غيغا...  \n",
       "21690  وتمضي الايام والباسل الذاكره والوجدان فارس الا...  \n",
       "21691  رئاسه مجلس الوزراء سوريه وزاره الاتصالات والتق...  \n",
       "21692  نائب رئيس المركز الروسي للمصالحه سوريا ناقله ا...  \n",
       "\n",
       "[21693 rows x 10 columns]"
      ]
     },
     "execution_count": 2,
     "metadata": {},
     "output_type": "execute_result"
    }
   ],
   "source": [
    "data=pd.read_csv(\"../data/Data_cleaning_with_content.csv\")\n",
    "reactions=['love','wow','angry','sad','care']"
   ]
  },
  {
   "cell_type": "code",
   "execution_count": 3,
   "metadata": {},
   "outputs": [],
   "source": [
    "data=data.dropna()\n",
    "contents=data['contentclean'].values\n",
    "love=data['love'].values\n",
    "wow=data['wow'].values\n",
    "sad=data['sigh'].values\n",
    "angry=data['grrr'].values\n",
    "care=data['care'].values\n",
    "category=data['category'].values\n",
    "sum_reaction=data['sumreactions'].values\n",
    "love=love/sum_reaction\n",
    "wow=wow/sum_reaction\n",
    "angry=angry/sum_reaction\n",
    "sad=sad/sum_reaction\n",
    "care=care/sum_reaction"
   ]
  },
  {
   "cell_type": "code",
   "execution_count": 4,
   "metadata": {},
   "outputs": [],
   "source": [
    "Emotions=np.array([love]).reshape(-1,1)\n",
    "Emotions=np.insert(Emotions,1,wow,axis=1)\n",
    "Emotions=np.insert(Emotions,2,angry,axis=1)\n",
    "Emotions=np.insert(Emotions,3,sad,axis=1)\n",
    "Emotions=np.insert(Emotions,4,care,axis=1)"
   ]
  },
  {
   "cell_type": "code",
   "execution_count": 28,
   "metadata": {},
   "outputs": [],
   "source": [
    "Y_train=Emotions"
   ]
  },
  {
   "cell_type": "code",
   "execution_count": 5,
   "metadata": {},
   "outputs": [],
   "source": [
    "from keras.models import Sequential\n",
    "from keras.layers import Dense\n",
    "from keras.layers import LSTM\n",
    "from keras.layers import Dropout\n",
    "from keras.layers.embeddings import Embedding\n",
    "from keras.preprocessing import sequence\n",
    "from keras.models import Sequential\n",
    "from keras import layers"
   ]
  },
  {
   "cell_type": "code",
   "execution_count": 24,
   "metadata": {},
   "outputs": [
    {
     "name": "stdout",
     "output_type": "stream",
     "text": [
      "597.9916527271271\n"
     ]
    }
   ],
   "source": [
    "import time\n",
    "s=time.time()\n",
    "X_train=get_featuers_for_post(contents) \n",
    "print(time.time()-s)"
   ]
  },
  {
   "cell_type": "code",
   "execution_count": 29,
   "metadata": {},
   "outputs": [
    {
     "name": "stdout",
     "output_type": "stream",
     "text": [
      "(20443, 36)\n",
      "(20443, 5)\n"
     ]
    }
   ],
   "source": [
    "print(X_train.shape)\n",
    "print(Y_train.shape)"
   ]
  },
  {
   "cell_type": "code",
   "execution_count": 67,
   "metadata": {},
   "outputs": [
    {
     "name": "stdout",
     "output_type": "stream",
     "text": [
      "Model: \"sequential_15\"\n",
      "_________________________________________________________________\n",
      "Layer (type)                 Output Shape              Param #   \n",
      "=================================================================\n",
      "dense_21 (Dense)             (None, 128)               4736      \n",
      "_________________________________________________________________\n",
      "dropout_8 (Dropout)          (None, 128)               0         \n",
      "_________________________________________________________________\n",
      "dense_22 (Dense)             (None, 128)               16512     \n",
      "_________________________________________________________________\n",
      "dropout_9 (Dropout)          (None, 128)               0         \n",
      "_________________________________________________________________\n",
      "dense_23 (Dense)             (None, 5)                 645       \n",
      "=================================================================\n",
      "Total params: 21,893\n",
      "Trainable params: 21,893\n",
      "Non-trainable params: 0\n",
      "_________________________________________________________________\n",
      "Epoch 1/20\n",
      "512/512 [==============================] - 2s 3ms/step - loss: 0.0524 - accuracy: 0.7074 - val_loss: 0.0313 - val_accuracy: 0.8136\n",
      "Epoch 2/20\n",
      "512/512 [==============================] - 1s 3ms/step - loss: 0.0302 - accuracy: 0.8167 - val_loss: 0.0300 - val_accuracy: 0.8198\n",
      "Epoch 3/20\n",
      "512/512 [==============================] - 1s 3ms/step - loss: 0.0296 - accuracy: 0.8084 - val_loss: 0.0294 - val_accuracy: 0.8139\n",
      "Epoch 4/20\n",
      "512/512 [==============================] - 1s 3ms/step - loss: 0.0298 - accuracy: 0.8136 - val_loss: 0.0293 - val_accuracy: 0.8144\n",
      "Epoch 5/20\n",
      "512/512 [==============================] - 1s 3ms/step - loss: 0.0289 - accuracy: 0.8109 - val_loss: 0.0290 - val_accuracy: 0.8180\n",
      "Epoch 6/20\n",
      "512/512 [==============================] - 1s 3ms/step - loss: 0.0278 - accuracy: 0.8256 - val_loss: 0.0290 - val_accuracy: 0.8227\n",
      "Epoch 7/20\n",
      "512/512 [==============================] - 1s 3ms/step - loss: 0.0276 - accuracy: 0.8236 - val_loss: 0.0285 - val_accuracy: 0.8212\n",
      "Epoch 8/20\n",
      "512/512 [==============================] - 1s 3ms/step - loss: 0.0275 - accuracy: 0.8182 - val_loss: 0.0285 - val_accuracy: 0.8259\n",
      "Epoch 9/20\n",
      "512/512 [==============================] - 1s 3ms/step - loss: 0.0270 - accuracy: 0.8236 - val_loss: 0.0284 - val_accuracy: 0.8254\n",
      "Epoch 10/20\n",
      "512/512 [==============================] - 1s 3ms/step - loss: 0.0268 - accuracy: 0.8254 - val_loss: 0.0285 - val_accuracy: 0.8215\n",
      "Epoch 11/20\n",
      "512/512 [==============================] - 1s 3ms/step - loss: 0.0270 - accuracy: 0.8207 - val_loss: 0.0283 - val_accuracy: 0.8171\n",
      "Epoch 12/20\n",
      "512/512 [==============================] - 1s 3ms/step - loss: 0.0274 - accuracy: 0.8229 - val_loss: 0.0284 - val_accuracy: 0.8237\n",
      "Epoch 13/20\n",
      "512/512 [==============================] - 1s 3ms/step - loss: 0.0276 - accuracy: 0.8212 - val_loss: 0.0290 - val_accuracy: 0.8229\n",
      "Epoch 14/20\n",
      "512/512 [==============================] - 1s 3ms/step - loss: 0.0269 - accuracy: 0.8225 - val_loss: 0.0293 - val_accuracy: 0.8229\n",
      "Epoch 15/20\n",
      "512/512 [==============================] - 1s 3ms/step - loss: 0.0268 - accuracy: 0.8194 - val_loss: 0.0283 - val_accuracy: 0.8225\n",
      "Epoch 16/20\n",
      "512/512 [==============================] - 1s 3ms/step - loss: 0.0267 - accuracy: 0.8210 - val_loss: 0.0281 - val_accuracy: 0.8239\n",
      "Epoch 17/20\n",
      "512/512 [==============================] - 1s 3ms/step - loss: 0.0270 - accuracy: 0.8225 - val_loss: 0.0285 - val_accuracy: 0.8278\n",
      "Epoch 18/20\n",
      "512/512 [==============================] - 2s 3ms/step - loss: 0.0273 - accuracy: 0.8193 - val_loss: 0.0290 - val_accuracy: 0.8295\n",
      "Epoch 19/20\n",
      "512/512 [==============================] - 1s 3ms/step - loss: 0.0268 - accuracy: 0.8188 - val_loss: 0.0284 - val_accuracy: 0.8278\n",
      "Epoch 20/20\n",
      "512/512 [==============================] - 2s 3ms/step - loss: 0.0261 - accuracy: 0.8266 - val_loss: 0.0283 - val_accuracy: 0.8242\n"
     ]
    },
    {
     "data": {
      "text/plain": [
       "<tensorflow.python.keras.callbacks.History at 0x2d6684751c8>"
      ]
     },
     "execution_count": 67,
     "metadata": {},
     "output_type": "execute_result"
    }
   ],
   "source": [
    "model=Sequential()\n",
    "DROPOUT=0.3\n",
    "model.add(Dense(units=128, input_shape=(X_train.shape[1],), activation='relu'))\n",
    "model.add(Dropout(DROPOUT))\n",
    "model.add(Dense(units=128, activation='relu'))\n",
    "model.add(Dropout(DROPOUT))\n",
    "model.add(Dense(units=5, activation='softmax'))\n",
    "model.compile(optimizer='adam',\n",
    "                loss='mse',\n",
    "                 metrics=['accuracy'])\n",
    "model.summary()\n",
    "\n",
    "model.fit(X_train, Y_train, epochs=20, batch_size=32,validation_split=0.2)"
   ]
  },
  {
   "cell_type": "code",
   "execution_count": 68,
   "metadata": {},
   "outputs": [],
   "source": [
    "model.save(\"Final_models_svm/model_nn.h5\")"
   ]
  },
  {
   "cell_type": "code",
   "execution_count": 43,
   "metadata": {},
   "outputs": [
    {
     "name": "stdout",
     "output_type": "stream",
     "text": [
      "Model: \"sequential_9\"\n",
      "_________________________________________________________________\n",
      "Layer (type)                 Output Shape              Param #   \n",
      "=================================================================\n",
      "embedding_5 (Embedding)      (None, 36, 50)            1500000   \n",
      "_________________________________________________________________\n",
      "conv1d_5 (Conv1D)            (None, 32, 128)           32128     \n",
      "_________________________________________________________________\n",
      "global_max_pooling1d_5 (Glob (None, 128)               0         \n",
      "_________________________________________________________________\n",
      "dense_14 (Dense)             (None, 5)                 645       \n",
      "=================================================================\n",
      "Total params: 1,532,773\n",
      "Trainable params: 1,532,773\n",
      "Non-trainable params: 0\n",
      "_________________________________________________________________\n",
      "Epoch 1/10\n",
      "639/639 [==============================] - 25s 38ms/step - loss: 0.0865 - accuracy: 0.5552\n",
      "Epoch 2/10\n",
      "639/639 [==============================] - 24s 37ms/step - loss: 0.0840 - accuracy: 0.5625\n",
      "Epoch 3/10\n",
      "639/639 [==============================] - 24s 37ms/step - loss: 0.0833 - accuracy: 0.5723\n",
      "Epoch 4/10\n",
      "639/639 [==============================] - 23s 37ms/step - loss: 0.0841 - accuracy: 0.5570\n",
      "Epoch 5/10\n",
      "639/639 [==============================] - 23s 36ms/step - loss: 0.0845 - accuracy: 0.5639\n",
      "Epoch 6/10\n",
      "639/639 [==============================] - 24s 37ms/step - loss: 0.0840 - accuracy: 0.5662\n",
      "Epoch 7/10\n",
      "639/639 [==============================] - 25s 39ms/step - loss: 0.0836 - accuracy: 0.5692\n",
      "Epoch 8/10\n",
      "639/639 [==============================] - 27s 42ms/step - loss: 0.0844 - accuracy: 0.5644\n",
      "Epoch 9/10\n",
      "639/639 [==============================] - 22s 35ms/step - loss: 0.0843 - accuracy: 0.5638\n",
      "Epoch 10/10\n",
      "639/639 [==============================] - 24s 37ms/step - loss: 0.0849 - accuracy: 0.5567\n"
     ]
    },
    {
     "data": {
      "text/plain": [
       "<tensorflow.python.keras.callbacks.History at 0x2d666986408>"
      ]
     },
     "execution_count": 43,
     "metadata": {},
     "output_type": "execute_result"
    }
   ],
   "source": [
    "model_cnn = Sequential()\n",
    "model_cnn.add(layers.Embedding(30000, 50, input_length=36))\n",
    "model_cnn.add(layers.Conv1D(128, 5, activation='relu'))\n",
    "model_cnn.add(layers.GlobalMaxPooling1D())\n",
    "model_cnn.add(layers.Dense(5,activation=\"softmax\"))\n",
    "model_cnn.compile(optimizer='adam',\n",
    "                loss='mse',\n",
    "                 metrics=['accuracy'])\n",
    "model_cnn.summary()\n",
    "model_cnn.fit(X_train,Y_train,epochs=10)"
   ]
  },
  {
   "cell_type": "code",
   "execution_count": 40,
   "metadata": {},
   "outputs": [
    {
     "data": {
      "text/plain": [
       "array([[0.87893337, 0.0094037 , 0.01306489, 0.0608322 , 0.03776583]],\n",
       "      dtype=float32)"
      ]
     },
     "execution_count": 40,
     "metadata": {},
     "output_type": "execute_result"
    }
   ],
   "source": [
    "model.predict(X_train[0:1])"
   ]
  },
  {
   "cell_type": "code",
   "execution_count": 41,
   "metadata": {},
   "outputs": [
    {
     "data": {
      "text/plain": [
       "array([[0.625, 0.   , 0.125, 0.25 , 0.   ]])"
      ]
     },
     "execution_count": 41,
     "metadata": {},
     "output_type": "execute_result"
    }
   ],
   "source": [
    "Y_train[0:1]"
   ]
  },
  {
   "cell_type": "code",
   "execution_count": 44,
   "metadata": {},
   "outputs": [
    {
     "data": {
      "text/plain": [
       "array([[0.5162714 , 0.09110656, 0.07454216, 0.2524357 , 0.06564418]],\n",
       "      dtype=float32)"
      ]
     },
     "execution_count": 44,
     "metadata": {},
     "output_type": "execute_result"
    }
   ],
   "source": [
    "model_cnn.predict(X_train[0:1])"
   ]
  },
  {
   "cell_type": "code",
   "execution_count": 49,
   "metadata": {},
   "outputs": [
    {
     "name": "stdout",
     "output_type": "stream",
     "text": [
      "Model: \"sequential_14\"\n",
      "_________________________________________________________________\n",
      "Layer (type)                 Output Shape              Param #   \n",
      "=================================================================\n",
      "embedding_7 (Embedding)      (None, 36, 32)            3200000   \n",
      "_________________________________________________________________\n",
      "conv1d_7 (Conv1D)            (None, 34, 128)           12416     \n",
      "_________________________________________________________________\n",
      "bidirectional_1 (Bidirection (None, 34, 256)           263168    \n",
      "_________________________________________________________________\n",
      "global_max_pooling1d_7 (Glob (None, 256)               0         \n",
      "_________________________________________________________________\n",
      "dense_18 (Dense)             (None, 50)                12850     \n",
      "_________________________________________________________________\n",
      "dropout_7 (Dropout)          (None, 50)                0         \n",
      "_________________________________________________________________\n",
      "dense_19 (Dense)             (None, 20)                1020      \n",
      "_________________________________________________________________\n",
      "dense_20 (Dense)             (None, 5)                 105       \n",
      "=================================================================\n",
      "Total params: 3,489,559\n",
      "Trainable params: 3,489,559\n",
      "Non-trainable params: 0\n",
      "_________________________________________________________________\n"
     ]
    }
   ],
   "source": [
    "model_77 = Sequential()\n",
    "model_77.add(layers.Embedding(100000, 32, input_length=36))\n",
    "\n",
    "\n",
    "model_77.add(layers.Conv1D(128, 3, activation='relu'))\n",
    "\n",
    "model_77.add(layers.Bidirectional(layers.LSTM(units=128,return_sequences=True)))\n",
    "model_77.add(layers.GlobalMaxPooling1D())\n",
    "\n",
    "model_77.add(layers.Dense(50, activation='tanh'))\n",
    "model_77.add(layers.Dropout(0.3))\n",
    "model_77.add(layers.Dense(20, activation='relu'))\n",
    "\n",
    "model_77.add(layers.Dense(5,activation = 'softmax'))\n",
    "model_77.compile(optimizer='adam',\n",
    "              loss='categorical_crossentropy',\n",
    "              metrics=['accuracy'])\n",
    "model_77.summary()"
   ]
  },
  {
   "cell_type": "code",
   "execution_count": 50,
   "metadata": {},
   "outputs": [
    {
     "name": "stdout",
     "output_type": "stream",
     "text": [
      "Epoch 1/10\n",
      "639/639 [==============================] - 100s 147ms/step - loss: 1.3488 - accuracy: 0.5619\n",
      "Epoch 2/10\n",
      "639/639 [==============================] - 91s 142ms/step - loss: 1.3346 - accuracy: 0.5621\n",
      "Epoch 3/10\n",
      "639/639 [==============================] - 90s 140ms/step - loss: 1.3312 - accuracy: 0.5617\n",
      "Epoch 4/10\n",
      " 68/639 [==>...........................] - ETA: 1:32 - loss: 1.3287 - accuracy: 0.5754"
     ]
    },
    {
     "ename": "KeyboardInterrupt",
     "evalue": "",
     "output_type": "error",
     "traceback": [
      "\u001b[1;31m---------------------------------------------------------------------------\u001b[0m",
      "\u001b[1;31mKeyboardInterrupt\u001b[0m                         Traceback (most recent call last)",
      "\u001b[1;32m<ipython-input-50-7c0468a30519>\u001b[0m in \u001b[0;36m<module>\u001b[1;34m\u001b[0m\n\u001b[1;32m----> 1\u001b[1;33m \u001b[0mmodel_77\u001b[0m\u001b[1;33m.\u001b[0m\u001b[0mfit\u001b[0m\u001b[1;33m(\u001b[0m\u001b[0mX_train\u001b[0m\u001b[1;33m,\u001b[0m\u001b[0mY_train\u001b[0m\u001b[1;33m,\u001b[0m\u001b[0mepochs\u001b[0m\u001b[1;33m=\u001b[0m\u001b[1;36m10\u001b[0m\u001b[1;33m)\u001b[0m\u001b[1;33m\u001b[0m\u001b[1;33m\u001b[0m\u001b[0m\n\u001b[0m",
      "\u001b[1;32m~\\.conda\\envs\\Tensor\\lib\\site-packages\\tensorflow\\python\\keras\\engine\\training.py\u001b[0m in \u001b[0;36mfit\u001b[1;34m(self, x, y, batch_size, epochs, verbose, callbacks, validation_split, validation_data, shuffle, class_weight, sample_weight, initial_epoch, steps_per_epoch, validation_steps, validation_batch_size, validation_freq, max_queue_size, workers, use_multiprocessing)\u001b[0m\n\u001b[0;32m   1098\u001b[0m                 _r=1):\n\u001b[0;32m   1099\u001b[0m               \u001b[0mcallbacks\u001b[0m\u001b[1;33m.\u001b[0m\u001b[0mon_train_batch_begin\u001b[0m\u001b[1;33m(\u001b[0m\u001b[0mstep\u001b[0m\u001b[1;33m)\u001b[0m\u001b[1;33m\u001b[0m\u001b[1;33m\u001b[0m\u001b[0m\n\u001b[1;32m-> 1100\u001b[1;33m               \u001b[0mtmp_logs\u001b[0m \u001b[1;33m=\u001b[0m \u001b[0mself\u001b[0m\u001b[1;33m.\u001b[0m\u001b[0mtrain_function\u001b[0m\u001b[1;33m(\u001b[0m\u001b[0miterator\u001b[0m\u001b[1;33m)\u001b[0m\u001b[1;33m\u001b[0m\u001b[1;33m\u001b[0m\u001b[0m\n\u001b[0m\u001b[0;32m   1101\u001b[0m               \u001b[1;32mif\u001b[0m \u001b[0mdata_handler\u001b[0m\u001b[1;33m.\u001b[0m\u001b[0mshould_sync\u001b[0m\u001b[1;33m:\u001b[0m\u001b[1;33m\u001b[0m\u001b[1;33m\u001b[0m\u001b[0m\n\u001b[0;32m   1102\u001b[0m                 \u001b[0mcontext\u001b[0m\u001b[1;33m.\u001b[0m\u001b[0masync_wait\u001b[0m\u001b[1;33m(\u001b[0m\u001b[1;33m)\u001b[0m\u001b[1;33m\u001b[0m\u001b[1;33m\u001b[0m\u001b[0m\n",
      "\u001b[1;32m~\\.conda\\envs\\Tensor\\lib\\site-packages\\tensorflow\\python\\eager\\def_function.py\u001b[0m in \u001b[0;36m__call__\u001b[1;34m(self, *args, **kwds)\u001b[0m\n\u001b[0;32m    826\u001b[0m     \u001b[0mtracing_count\u001b[0m \u001b[1;33m=\u001b[0m \u001b[0mself\u001b[0m\u001b[1;33m.\u001b[0m\u001b[0mexperimental_get_tracing_count\u001b[0m\u001b[1;33m(\u001b[0m\u001b[1;33m)\u001b[0m\u001b[1;33m\u001b[0m\u001b[1;33m\u001b[0m\u001b[0m\n\u001b[0;32m    827\u001b[0m     \u001b[1;32mwith\u001b[0m \u001b[0mtrace\u001b[0m\u001b[1;33m.\u001b[0m\u001b[0mTrace\u001b[0m\u001b[1;33m(\u001b[0m\u001b[0mself\u001b[0m\u001b[1;33m.\u001b[0m\u001b[0m_name\u001b[0m\u001b[1;33m)\u001b[0m \u001b[1;32mas\u001b[0m \u001b[0mtm\u001b[0m\u001b[1;33m:\u001b[0m\u001b[1;33m\u001b[0m\u001b[1;33m\u001b[0m\u001b[0m\n\u001b[1;32m--> 828\u001b[1;33m       \u001b[0mresult\u001b[0m \u001b[1;33m=\u001b[0m \u001b[0mself\u001b[0m\u001b[1;33m.\u001b[0m\u001b[0m_call\u001b[0m\u001b[1;33m(\u001b[0m\u001b[1;33m*\u001b[0m\u001b[0margs\u001b[0m\u001b[1;33m,\u001b[0m \u001b[1;33m**\u001b[0m\u001b[0mkwds\u001b[0m\u001b[1;33m)\u001b[0m\u001b[1;33m\u001b[0m\u001b[1;33m\u001b[0m\u001b[0m\n\u001b[0m\u001b[0;32m    829\u001b[0m       \u001b[0mcompiler\u001b[0m \u001b[1;33m=\u001b[0m \u001b[1;34m\"xla\"\u001b[0m \u001b[1;32mif\u001b[0m \u001b[0mself\u001b[0m\u001b[1;33m.\u001b[0m\u001b[0m_experimental_compile\u001b[0m \u001b[1;32melse\u001b[0m \u001b[1;34m\"nonXla\"\u001b[0m\u001b[1;33m\u001b[0m\u001b[1;33m\u001b[0m\u001b[0m\n\u001b[0;32m    830\u001b[0m       \u001b[0mnew_tracing_count\u001b[0m \u001b[1;33m=\u001b[0m \u001b[0mself\u001b[0m\u001b[1;33m.\u001b[0m\u001b[0mexperimental_get_tracing_count\u001b[0m\u001b[1;33m(\u001b[0m\u001b[1;33m)\u001b[0m\u001b[1;33m\u001b[0m\u001b[1;33m\u001b[0m\u001b[0m\n",
      "\u001b[1;32m~\\.conda\\envs\\Tensor\\lib\\site-packages\\tensorflow\\python\\eager\\def_function.py\u001b[0m in \u001b[0;36m_call\u001b[1;34m(self, *args, **kwds)\u001b[0m\n\u001b[0;32m    853\u001b[0m       \u001b[1;31m# In this case we have created variables on the first call, so we run the\u001b[0m\u001b[1;33m\u001b[0m\u001b[1;33m\u001b[0m\u001b[1;33m\u001b[0m\u001b[0m\n\u001b[0;32m    854\u001b[0m       \u001b[1;31m# defunned version which is guaranteed to never create variables.\u001b[0m\u001b[1;33m\u001b[0m\u001b[1;33m\u001b[0m\u001b[1;33m\u001b[0m\u001b[0m\n\u001b[1;32m--> 855\u001b[1;33m       \u001b[1;32mreturn\u001b[0m \u001b[0mself\u001b[0m\u001b[1;33m.\u001b[0m\u001b[0m_stateless_fn\u001b[0m\u001b[1;33m(\u001b[0m\u001b[1;33m*\u001b[0m\u001b[0margs\u001b[0m\u001b[1;33m,\u001b[0m \u001b[1;33m**\u001b[0m\u001b[0mkwds\u001b[0m\u001b[1;33m)\u001b[0m  \u001b[1;31m# pylint: disable=not-callable\u001b[0m\u001b[1;33m\u001b[0m\u001b[1;33m\u001b[0m\u001b[0m\n\u001b[0m\u001b[0;32m    856\u001b[0m     \u001b[1;32melif\u001b[0m \u001b[0mself\u001b[0m\u001b[1;33m.\u001b[0m\u001b[0m_stateful_fn\u001b[0m \u001b[1;32mis\u001b[0m \u001b[1;32mnot\u001b[0m \u001b[1;32mNone\u001b[0m\u001b[1;33m:\u001b[0m\u001b[1;33m\u001b[0m\u001b[1;33m\u001b[0m\u001b[0m\n\u001b[0;32m    857\u001b[0m       \u001b[1;31m# Release the lock early so that multiple threads can perform the call\u001b[0m\u001b[1;33m\u001b[0m\u001b[1;33m\u001b[0m\u001b[1;33m\u001b[0m\u001b[0m\n",
      "\u001b[1;32m~\\.conda\\envs\\Tensor\\lib\\site-packages\\tensorflow\\python\\eager\\function.py\u001b[0m in \u001b[0;36m__call__\u001b[1;34m(self, *args, **kwargs)\u001b[0m\n\u001b[0;32m   2941\u001b[0m        filtered_flat_args) = self._maybe_define_function(args, kwargs)\n\u001b[0;32m   2942\u001b[0m     return graph_function._call_flat(\n\u001b[1;32m-> 2943\u001b[1;33m         filtered_flat_args, captured_inputs=graph_function.captured_inputs)  # pylint: disable=protected-access\n\u001b[0m\u001b[0;32m   2944\u001b[0m \u001b[1;33m\u001b[0m\u001b[0m\n\u001b[0;32m   2945\u001b[0m   \u001b[1;33m@\u001b[0m\u001b[0mproperty\u001b[0m\u001b[1;33m\u001b[0m\u001b[1;33m\u001b[0m\u001b[0m\n",
      "\u001b[1;32m~\\.conda\\envs\\Tensor\\lib\\site-packages\\tensorflow\\python\\eager\\function.py\u001b[0m in \u001b[0;36m_call_flat\u001b[1;34m(self, args, captured_inputs, cancellation_manager)\u001b[0m\n\u001b[0;32m   1917\u001b[0m       \u001b[1;31m# No tape is watching; skip to running the function.\u001b[0m\u001b[1;33m\u001b[0m\u001b[1;33m\u001b[0m\u001b[1;33m\u001b[0m\u001b[0m\n\u001b[0;32m   1918\u001b[0m       return self._build_call_outputs(self._inference_function.call(\n\u001b[1;32m-> 1919\u001b[1;33m           ctx, args, cancellation_manager=cancellation_manager))\n\u001b[0m\u001b[0;32m   1920\u001b[0m     forward_backward = self._select_forward_and_backward_functions(\n\u001b[0;32m   1921\u001b[0m         \u001b[0margs\u001b[0m\u001b[1;33m,\u001b[0m\u001b[1;33m\u001b[0m\u001b[1;33m\u001b[0m\u001b[0m\n",
      "\u001b[1;32m~\\.conda\\envs\\Tensor\\lib\\site-packages\\tensorflow\\python\\eager\\function.py\u001b[0m in \u001b[0;36mcall\u001b[1;34m(self, ctx, args, cancellation_manager)\u001b[0m\n\u001b[0;32m    558\u001b[0m               \u001b[0minputs\u001b[0m\u001b[1;33m=\u001b[0m\u001b[0margs\u001b[0m\u001b[1;33m,\u001b[0m\u001b[1;33m\u001b[0m\u001b[1;33m\u001b[0m\u001b[0m\n\u001b[0;32m    559\u001b[0m               \u001b[0mattrs\u001b[0m\u001b[1;33m=\u001b[0m\u001b[0mattrs\u001b[0m\u001b[1;33m,\u001b[0m\u001b[1;33m\u001b[0m\u001b[1;33m\u001b[0m\u001b[0m\n\u001b[1;32m--> 560\u001b[1;33m               ctx=ctx)\n\u001b[0m\u001b[0;32m    561\u001b[0m         \u001b[1;32melse\u001b[0m\u001b[1;33m:\u001b[0m\u001b[1;33m\u001b[0m\u001b[1;33m\u001b[0m\u001b[0m\n\u001b[0;32m    562\u001b[0m           outputs = execute.execute_with_cancellation(\n",
      "\u001b[1;32m~\\.conda\\envs\\Tensor\\lib\\site-packages\\tensorflow\\python\\eager\\execute.py\u001b[0m in \u001b[0;36mquick_execute\u001b[1;34m(op_name, num_outputs, inputs, attrs, ctx, name)\u001b[0m\n\u001b[0;32m     58\u001b[0m     \u001b[0mctx\u001b[0m\u001b[1;33m.\u001b[0m\u001b[0mensure_initialized\u001b[0m\u001b[1;33m(\u001b[0m\u001b[1;33m)\u001b[0m\u001b[1;33m\u001b[0m\u001b[1;33m\u001b[0m\u001b[0m\n\u001b[0;32m     59\u001b[0m     tensors = pywrap_tfe.TFE_Py_Execute(ctx._handle, device_name, op_name,\n\u001b[1;32m---> 60\u001b[1;33m                                         inputs, attrs, num_outputs)\n\u001b[0m\u001b[0;32m     61\u001b[0m   \u001b[1;32mexcept\u001b[0m \u001b[0mcore\u001b[0m\u001b[1;33m.\u001b[0m\u001b[0m_NotOkStatusException\u001b[0m \u001b[1;32mas\u001b[0m \u001b[0me\u001b[0m\u001b[1;33m:\u001b[0m\u001b[1;33m\u001b[0m\u001b[1;33m\u001b[0m\u001b[0m\n\u001b[0;32m     62\u001b[0m     \u001b[1;32mif\u001b[0m \u001b[0mname\u001b[0m \u001b[1;32mis\u001b[0m \u001b[1;32mnot\u001b[0m \u001b[1;32mNone\u001b[0m\u001b[1;33m:\u001b[0m\u001b[1;33m\u001b[0m\u001b[1;33m\u001b[0m\u001b[0m\n",
      "\u001b[1;31mKeyboardInterrupt\u001b[0m: "
     ]
    }
   ],
   "source": [
    "model_77.fit(X_train,Y_train,epochs=10)"
   ]
  },
  {
   "cell_type": "code",
   "execution_count": 53,
   "metadata": {},
   "outputs": [],
   "source": [
    "import numpy as np\n",
    "from sklearn.linear_model import LinearRegression"
   ]
  },
  {
   "cell_type": "code",
   "execution_count": 56,
   "metadata": {},
   "outputs": [],
   "source": [
    "reg_love = LinearRegression().fit(X_train,love)\n",
    "reg_wow = LinearRegression().fit(X_train,wow)\n",
    "reg_angry = LinearRegression().fit(X_train,angry)\n",
    "reg_sad = LinearRegression().fit(X_train,sad)\n",
    "reg_care = LinearRegression().fit(X_train,care)"
   ]
  },
  {
   "cell_type": "code",
   "execution_count": 57,
   "metadata": {},
   "outputs": [
    {
     "name": "stdout",
     "output_type": "stream",
     "text": [
      "[0.76617432]\n",
      "[0.02490234]\n",
      "[0.03215027]\n",
      "[0.12289429]\n",
      "[0.05371857]\n"
     ]
    }
   ],
   "source": [
    "print(reg_love.predict(X_train[0:1]))\n",
    "print(reg_wow.predict(X_train[0:1]))\n",
    "print(reg_angry.predict(X_train[0:1]))\n",
    "print(reg_sad.predict(X_train[0:1]))\n",
    "print(reg_care.predict(X_train[0:1]))"
   ]
  },
  {
   "cell_type": "code",
   "execution_count": 65,
   "metadata": {},
   "outputs": [],
   "source": [
    "import pickle\n",
    "with open(\"Final_models_svm/reg_care.pickle\",\"wb\") as file:\n",
    "    pickle.dump(reg_care,file)"
   ]
  },
  {
   "cell_type": "code",
   "execution_count": null,
   "metadata": {},
   "outputs": [],
   "source": []
  }
 ],
 "metadata": {
  "kernelspec": {
   "display_name": "Python 3",
   "language": "python",
   "name": "python3"
  },
  "language_info": {
   "codemirror_mode": {
    "name": "ipython",
    "version": 3
   },
   "file_extension": ".py",
   "mimetype": "text/x-python",
   "name": "python",
   "nbconvert_exporter": "python",
   "pygments_lexer": "ipython3",
   "version": "3.7.7"
  }
 },
 "nbformat": 4,
 "nbformat_minor": 4
}
