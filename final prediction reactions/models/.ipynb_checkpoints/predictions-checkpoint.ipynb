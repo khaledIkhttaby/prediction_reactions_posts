{
 "cells": [
  {
   "cell_type": "code",
   "execution_count": 52,
   "metadata": {},
   "outputs": [],
   "source": [
    "import numpy as np \n",
    "import pandas as pd\n",
    "from get_featuers_posts import get_featuers_for_post\n",
    "from keras.models import load_model"
   ]
  },
  {
   "cell_type": "code",
   "execution_count": 53,
   "metadata": {},
   "outputs": [],
   "source": [
    "import pickle\n",
    "with open(\"SVR_care.pickle\",\"rb\") as file:\n",
    "    reg_care=pickle.load(file)\n",
    "with open(\"SVR_love.picklee\",\"rb\") as file:\n",
    "    reg_love=pickle.load(file)\n",
    "with open(\"Final_models_svm/reg_wow.pickle\",\"rb\") as file:\n",
    "    reg_wow=pickle.load(file)\n",
    "with open(\"Final_models_svm/reg_angry.pickle\",\"rb\") as file:\n",
    "    reg_angry=pickle.load(file)\n",
    "with open(\"Final_models_svm/reg_sad.pickle\",\"rb\") as file:\n",
    "    reg_sad=pickle.load(file)\n",
    "model_nn=load_model(\"Final_models_svm/model_nn.h5\")"
   ]
  },
  {
   "cell_type": "code",
   "execution_count": 61,
   "metadata": {},
   "outputs": [
    {
     "data": {
      "text/plain": [
       "(21693, 10)"
      ]
     },
     "execution_count": 61,
     "metadata": {},
     "output_type": "execute_result"
    }
   ],
   "source": [
    "data=pd.read_csv(\"Data_cleaning_with_content.csv\")\n",
    "reactions=['love','wow','angry','sad','care']\n",
    "data.shape"
   ]
  },
  {
   "cell_type": "code",
   "execution_count": 62,
   "metadata": {},
   "outputs": [],
   "source": [
    "data=data.dropna()\n",
    "contents=data['contentclean'].values\n",
    "love=data['love'].values\n",
    "wow=data['wow'].values\n",
    "sad=data['sigh'].values\n",
    "angry=data['grrr'].values\n",
    "care=data['care'].values\n",
    "category=data['category'].values\n",
    "sum_reaction=data['sumreactions'].values\n",
    "love=love/sum_reaction\n",
    "wow=wow/sum_reaction\n",
    "angry=angry/sum_reaction\n",
    "sad=sad/sum_reaction\n",
    "care=care/sum_reaction"
   ]
  },
  {
   "cell_type": "code",
   "execution_count": 63,
   "metadata": {},
   "outputs": [],
   "source": [
    "Emotions=np.array([love]).reshape(-1,1)\n",
    "Emotions=np.insert(Emotions,1,wow,axis=1)\n",
    "Emotions=np.insert(Emotions,2,angry,axis=1)\n",
    "Emotions=np.insert(Emotions,3,sad,axis=1)\n",
    "Emotions=np.insert(Emotions,4,care,axis=1)\n",
    "Y_train=Emotions"
   ]
  },
  {
   "cell_type": "code",
   "execution_count": 6,
   "metadata": {},
   "outputs": [],
   "source": [
    "X_test=get_featuers_for_post(contents[1000:2000]) "
   ]
  },
  {
   "cell_type": "code",
   "execution_count": 49,
   "metadata": {},
   "outputs": [],
   "source": [
    "def predictions_regression(posts):\n",
    "    X_test=get_featuers_for_post(posts)\n",
    "    love_predictions=reg_love.predict(X_test)\n",
    "    wow_predictions=reg_wow.predict(X_test)\n",
    "    angry_predictions=reg_angry.predict(X_test)\n",
    "    sad_predictions=reg_sad.predict(X_test)\n",
    "    care_predictions=reg_care.predict(X_test)\n",
    "    res=[]\n",
    "    res.append(love_predictions)\n",
    "    res.append(wow_predictions)\n",
    "    res.append(angry_predictions)\n",
    "    res.append(sad_predictions)\n",
    "    res.append(care_predictions)\n",
    "    return np.array(res).transpose()\n",
    "    \n",
    "def predictions_model_nn(posts):\n",
    "    X_test=get_featuers_for_post(posts)\n",
    "    return model_nn.predict(X_test)\n",
    "    "
   ]
  },
  {
   "cell_type": "code",
   "execution_count": 75,
   "metadata": {},
   "outputs": [
    {
     "name": "stdout",
     "output_type": "stream",
     "text": [
      "-------- ['love', 'wow', 'angry', 'sad', 'care']\n",
      "       __________Predictions___________\n",
      "\n",
      " [[0.8089448  0.01206565 0.02076987 0.110278   0.04794152]\n",
      " [0.97991794 0.00126577 0.00522403 0.00131335 0.01227897]\n",
      " [0.9566831  0.0037932  0.00245716 0.003333   0.03373364]]\n",
      "       \n",
      "__________Real___________\n",
      "\n",
      " [[0.625 0.    0.125 0.25  0.   ]\n",
      " [1.    0.    0.    0.    0.   ]\n",
      " [0.9   0.    0.    0.    0.1  ]]\n"
     ]
    }
   ],
   "source": [
    "print(\"--------\",reactions)\n",
    "print(\"       __________Predictions_neural network___________\\n\\n\",predictions_model_nn(contents[0:3]))\n",
    "print(\"       \\n__________Real___________\\n\\n\",Y_train[0:3])"
   ]
  },
  {
   "cell_type": "code",
   "execution_count": 73,
   "metadata": {},
   "outputs": [
    {
     "name": "stdout",
     "output_type": "stream",
     "text": [
      "-------- ['love', 'wow', 'angry', 'sad', 'care']\n",
      "       __________Predictions___________\n",
      " [[ 0.76416016  0.02735901  0.03189087  0.12261963  0.05364227]\n",
      " [ 0.94683838  0.01242065  0.03302002 -0.00592041  0.01416779]\n",
      " [ 0.92437744  0.00801849 -0.00799561  0.01898193  0.05667877]]\n",
      "       __________Real___________\n",
      " [[0.625 0.    0.125 0.25  0.   ]\n",
      " [1.    0.    0.    0.    0.   ]\n",
      " [0.9   0.    0.    0.    0.1  ]]\n"
     ]
    }
   ],
   "source": [
    "print(\"--------\",reactions)\n",
    "print(\"       __________Predictions___________\\n\",predictions_regression(contents[0:3]))\n",
    "print(\"       __________Real___________\\n\",Y_train[0:3])"
   ]
  },
  {
   "cell_type": "code",
   "execution_count": 30,
   "metadata": {},
   "outputs": [
    {
     "data": {
      "text/plain": [
       "array([[ 0.078125  ,  0.61999512],\n",
       "       [-0.09655762,  0.98983765]])"
      ]
     },
     "execution_count": 30,
     "metadata": {},
     "output_type": "execute_result"
    }
   ],
   "source": [
    "f=[]\n",
    "f.append(love_predictions)\n",
    "f.append(sad_predictions)\n",
    "np.array(f).transpose()"
   ]
  },
  {
   "cell_type": "code",
   "execution_count": 15,
   "metadata": {},
   "outputs": [
    {
     "data": {
      "text/plain": [
       "array([0.61999512, 0.98983765])"
      ]
     },
     "execution_count": 15,
     "metadata": {},
     "output_type": "execute_result"
    }
   ],
   "source": [
    "sad_predictions"
   ]
  },
  {
   "cell_type": "code",
   "execution_count": null,
   "metadata": {},
   "outputs": [],
   "source": []
  }
 ],
 "metadata": {
  "kernelspec": {
   "display_name": "Python 3",
   "language": "python",
   "name": "python3"
  },
  "language_info": {
   "codemirror_mode": {
    "name": "ipython",
    "version": 3
   },
   "file_extension": ".py",
   "mimetype": "text/x-python",
   "name": "python",
   "nbconvert_exporter": "python",
   "pygments_lexer": "ipython3",
   "version": "3.7.7"
  }
 },
 "nbformat": 4,
 "nbformat_minor": 4
}
